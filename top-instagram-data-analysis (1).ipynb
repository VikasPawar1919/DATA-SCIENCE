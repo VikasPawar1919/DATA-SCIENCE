{
 "cells": [
  {
   "cell_type": "code",
   "execution_count": 1,
   "metadata": {
    "_cell_guid": "b1076dfc-b9ad-4769-8c92-a6c4dae69d19",
    "_uuid": "8f2839f25d086af736a60e9eeb907d3b93b6e0e5",
    "execution": {
     "iopub.execute_input": "2023-02-28T06:01:49.705281Z",
     "iopub.status.busy": "2023-02-28T06:01:49.704329Z",
     "iopub.status.idle": "2023-02-28T06:01:50.854188Z",
     "shell.execute_reply": "2023-02-28T06:01:50.852775Z",
     "shell.execute_reply.started": "2023-02-28T06:01:49.705231Z"
    }
   },
   "outputs": [],
   "source": [
    "import seaborn as sns\n",
    "import numpy as np\n",
    "import pandas as pd \n",
    "from sklearn.impute import SimpleImputer\n",
    "\n",
    "\n",
    "import os\n",
    "for dirname, _, filenames in os.walk('C:\\\\csv file 111\\\\data.csv'):\n",
    "    for filename in filenames:\n",
    "        print(os.path.join(dirname, filename))\n",
    "\n"
   ]
  },
  {
   "cell_type": "code",
   "execution_count": 19,
   "metadata": {
    "execution": {
     "iopub.execute_input": "2023-02-28T05:52:36.105334Z",
     "iopub.status.busy": "2023-02-28T05:52:36.10493Z",
     "iopub.status.idle": "2023-02-28T05:52:36.128129Z",
     "shell.execute_reply": "2023-02-28T05:52:36.126766Z",
     "shell.execute_reply.started": "2023-02-28T05:52:36.105301Z"
    }
   },
   "outputs": [],
   "source": [
    "df = pd.read_csv(\"C:\\\\csv file 111\\\\data.csv\")"
   ]
  },
  {
   "cell_type": "code",
   "execution_count": 3,
   "metadata": {
    "execution": {
     "iopub.execute_input": "2023-02-28T05:52:49.739819Z",
     "iopub.status.busy": "2023-02-28T05:52:49.739398Z",
     "iopub.status.idle": "2023-02-28T05:52:49.77705Z",
     "shell.execute_reply": "2023-02-28T05:52:49.77549Z",
     "shell.execute_reply.started": "2023-02-28T05:52:49.739783Z"
    }
   },
   "outputs": [
    {
     "data": {
      "text/html": [
       "<div>\n",
       "<style scoped>\n",
       "    .dataframe tbody tr th:only-of-type {\n",
       "        vertical-align: middle;\n",
       "    }\n",
       "\n",
       "    .dataframe tbody tr th {\n",
       "        vertical-align: top;\n",
       "    }\n",
       "\n",
       "    .dataframe thead th {\n",
       "        text-align: right;\n",
       "    }\n",
       "</style>\n",
       "<table border=\"1\" class=\"dataframe\">\n",
       "  <thead>\n",
       "    <tr style=\"text-align: right;\">\n",
       "      <th></th>\n",
       "      <th>rank</th>\n",
       "      <th>name</th>\n",
       "      <th>channel_Info</th>\n",
       "      <th>Category</th>\n",
       "      <th>Posts</th>\n",
       "      <th>Followers</th>\n",
       "      <th>Avg. Likes</th>\n",
       "      <th>Eng Rate</th>\n",
       "    </tr>\n",
       "  </thead>\n",
       "  <tbody>\n",
       "    <tr>\n",
       "      <th>0</th>\n",
       "      <td>1</td>\n",
       "      <td>instagram</td>\n",
       "      <td>brand</td>\n",
       "      <td>photography</td>\n",
       "      <td>7.3K</td>\n",
       "      <td>580.1M</td>\n",
       "      <td>7.31K</td>\n",
       "      <td>0.1%</td>\n",
       "    </tr>\n",
       "    <tr>\n",
       "      <th>1</th>\n",
       "      <td>2</td>\n",
       "      <td>cristiano</td>\n",
       "      <td>male</td>\n",
       "      <td>Health, Sports &amp; Fitness</td>\n",
       "      <td>3.4K</td>\n",
       "      <td>519.9M</td>\n",
       "      <td>3.41K</td>\n",
       "      <td>1.4%</td>\n",
       "    </tr>\n",
       "    <tr>\n",
       "      <th>2</th>\n",
       "      <td>3</td>\n",
       "      <td>leomessi</td>\n",
       "      <td>male</td>\n",
       "      <td>Health, Sports &amp; Fitness</td>\n",
       "      <td>1K</td>\n",
       "      <td>403.7M</td>\n",
       "      <td>0.97K</td>\n",
       "      <td>1.7%</td>\n",
       "    </tr>\n",
       "    <tr>\n",
       "      <th>3</th>\n",
       "      <td>4</td>\n",
       "      <td>kyliejenner</td>\n",
       "      <td>female</td>\n",
       "      <td>entertainment</td>\n",
       "      <td>7K</td>\n",
       "      <td>375.9M</td>\n",
       "      <td>7.02K</td>\n",
       "      <td>1.7%</td>\n",
       "    </tr>\n",
       "    <tr>\n",
       "      <th>4</th>\n",
       "      <td>5</td>\n",
       "      <td>selenagomez</td>\n",
       "      <td>female</td>\n",
       "      <td>entertainment</td>\n",
       "      <td>1.8K</td>\n",
       "      <td>365.3M</td>\n",
       "      <td>1.85K</td>\n",
       "      <td>1.1%</td>\n",
       "    </tr>\n",
       "    <tr>\n",
       "      <th>...</th>\n",
       "      <td>...</td>\n",
       "      <td>...</td>\n",
       "      <td>...</td>\n",
       "      <td>...</td>\n",
       "      <td>...</td>\n",
       "      <td>...</td>\n",
       "      <td>...</td>\n",
       "      <td>...</td>\n",
       "    </tr>\n",
       "    <tr>\n",
       "      <th>195</th>\n",
       "      <td>196</td>\n",
       "      <td>fcbayern</td>\n",
       "      <td>male</td>\n",
       "      <td>Health, Sports &amp; Fitness</td>\n",
       "      <td>16.8K</td>\n",
       "      <td>35.4M</td>\n",
       "      <td>16.78K</td>\n",
       "      <td>0.6%</td>\n",
       "    </tr>\n",
       "    <tr>\n",
       "      <th>196</th>\n",
       "      <td>197</td>\n",
       "      <td>colesprouse</td>\n",
       "      <td>male</td>\n",
       "      <td>entertainment</td>\n",
       "      <td>1.1K</td>\n",
       "      <td>35.3M</td>\n",
       "      <td>1.14K</td>\n",
       "      <td>3.5%</td>\n",
       "    </tr>\n",
       "    <tr>\n",
       "      <th>197</th>\n",
       "      <td>198</td>\n",
       "      <td>shaymitchell</td>\n",
       "      <td>male</td>\n",
       "      <td>entertainment</td>\n",
       "      <td>6.3K</td>\n",
       "      <td>35.1M</td>\n",
       "      <td>6.31K</td>\n",
       "      <td>1.2%</td>\n",
       "    </tr>\n",
       "    <tr>\n",
       "      <th>198</th>\n",
       "      <td>199</td>\n",
       "      <td>ivetesangalo</td>\n",
       "      <td>female</td>\n",
       "      <td>entertainment</td>\n",
       "      <td>7.8K</td>\n",
       "      <td>35M</td>\n",
       "      <td>7.77K</td>\n",
       "      <td>0.4%</td>\n",
       "    </tr>\n",
       "    <tr>\n",
       "      <th>199</th>\n",
       "      <td>200</td>\n",
       "      <td>paollaoliveirareal</td>\n",
       "      <td>female</td>\n",
       "      <td>entertainment</td>\n",
       "      <td>4.8K</td>\n",
       "      <td>34.9M</td>\n",
       "      <td>4.78K</td>\n",
       "      <td>0.7%</td>\n",
       "    </tr>\n",
       "  </tbody>\n",
       "</table>\n",
       "<p>200 rows × 8 columns</p>\n",
       "</div>"
      ],
      "text/plain": [
       "     rank                name channel_Info                  Category  Posts  \\\n",
       "0       1           instagram        brand               photography   7.3K   \n",
       "1       2           cristiano         male  Health, Sports & Fitness   3.4K   \n",
       "2       3            leomessi         male  Health, Sports & Fitness     1K   \n",
       "3       4         kyliejenner       female             entertainment     7K   \n",
       "4       5         selenagomez       female             entertainment   1.8K   \n",
       "..    ...                 ...          ...                       ...    ...   \n",
       "195   196            fcbayern         male  Health, Sports & Fitness  16.8K   \n",
       "196   197         colesprouse         male             entertainment   1.1K   \n",
       "197   198        shaymitchell         male             entertainment   6.3K   \n",
       "198   199        ivetesangalo       female             entertainment   7.8K   \n",
       "199   200  paollaoliveirareal       female             entertainment   4.8K   \n",
       "\n",
       "    Followers Avg. Likes Eng Rate  \n",
       "0      580.1M      7.31K     0.1%  \n",
       "1      519.9M      3.41K     1.4%  \n",
       "2      403.7M      0.97K     1.7%  \n",
       "3      375.9M      7.02K     1.7%  \n",
       "4      365.3M      1.85K     1.1%  \n",
       "..        ...        ...      ...  \n",
       "195     35.4M     16.78K     0.6%  \n",
       "196     35.3M      1.14K     3.5%  \n",
       "197     35.1M      6.31K     1.2%  \n",
       "198       35M      7.77K     0.4%  \n",
       "199     34.9M      4.78K     0.7%  \n",
       "\n",
       "[200 rows x 8 columns]"
      ]
     },
     "execution_count": 3,
     "metadata": {},
     "output_type": "execute_result"
    }
   ],
   "source": [
    "df"
   ]
  },
  {
   "cell_type": "code",
   "execution_count": 4,
   "metadata": {
    "execution": {
     "iopub.execute_input": "2023-02-28T05:56:33.947152Z",
     "iopub.status.busy": "2023-02-28T05:56:33.946758Z",
     "iopub.status.idle": "2023-02-28T05:56:33.966696Z",
     "shell.execute_reply": "2023-02-28T05:56:33.965426Z",
     "shell.execute_reply.started": "2023-02-28T05:56:33.947119Z"
    }
   },
   "outputs": [
    {
     "data": {
      "text/html": [
       "<div>\n",
       "<style scoped>\n",
       "    .dataframe tbody tr th:only-of-type {\n",
       "        vertical-align: middle;\n",
       "    }\n",
       "\n",
       "    .dataframe tbody tr th {\n",
       "        vertical-align: top;\n",
       "    }\n",
       "\n",
       "    .dataframe thead th {\n",
       "        text-align: right;\n",
       "    }\n",
       "</style>\n",
       "<table border=\"1\" class=\"dataframe\">\n",
       "  <thead>\n",
       "    <tr style=\"text-align: right;\">\n",
       "      <th></th>\n",
       "      <th>rank</th>\n",
       "      <th>name</th>\n",
       "      <th>channel_Info</th>\n",
       "      <th>Category</th>\n",
       "      <th>Posts</th>\n",
       "      <th>Followers</th>\n",
       "      <th>Avg. Likes</th>\n",
       "      <th>Eng Rate</th>\n",
       "    </tr>\n",
       "  </thead>\n",
       "  <tbody>\n",
       "    <tr>\n",
       "      <th>0</th>\n",
       "      <td>1</td>\n",
       "      <td>instagram</td>\n",
       "      <td>brand</td>\n",
       "      <td>photography</td>\n",
       "      <td>7.3K</td>\n",
       "      <td>580.1M</td>\n",
       "      <td>7.31K</td>\n",
       "      <td>0.1%</td>\n",
       "    </tr>\n",
       "    <tr>\n",
       "      <th>1</th>\n",
       "      <td>2</td>\n",
       "      <td>cristiano</td>\n",
       "      <td>male</td>\n",
       "      <td>Health, Sports &amp; Fitness</td>\n",
       "      <td>3.4K</td>\n",
       "      <td>519.9M</td>\n",
       "      <td>3.41K</td>\n",
       "      <td>1.4%</td>\n",
       "    </tr>\n",
       "    <tr>\n",
       "      <th>2</th>\n",
       "      <td>3</td>\n",
       "      <td>leomessi</td>\n",
       "      <td>male</td>\n",
       "      <td>Health, Sports &amp; Fitness</td>\n",
       "      <td>1K</td>\n",
       "      <td>403.7M</td>\n",
       "      <td>0.97K</td>\n",
       "      <td>1.7%</td>\n",
       "    </tr>\n",
       "    <tr>\n",
       "      <th>3</th>\n",
       "      <td>4</td>\n",
       "      <td>kyliejenner</td>\n",
       "      <td>female</td>\n",
       "      <td>entertainment</td>\n",
       "      <td>7K</td>\n",
       "      <td>375.9M</td>\n",
       "      <td>7.02K</td>\n",
       "      <td>1.7%</td>\n",
       "    </tr>\n",
       "    <tr>\n",
       "      <th>4</th>\n",
       "      <td>5</td>\n",
       "      <td>selenagomez</td>\n",
       "      <td>female</td>\n",
       "      <td>entertainment</td>\n",
       "      <td>1.8K</td>\n",
       "      <td>365.3M</td>\n",
       "      <td>1.85K</td>\n",
       "      <td>1.1%</td>\n",
       "    </tr>\n",
       "  </tbody>\n",
       "</table>\n",
       "</div>"
      ],
      "text/plain": [
       "   rank         name channel_Info                  Category Posts Followers  \\\n",
       "0     1    instagram        brand               photography  7.3K    580.1M   \n",
       "1     2    cristiano         male  Health, Sports & Fitness  3.4K    519.9M   \n",
       "2     3     leomessi         male  Health, Sports & Fitness    1K    403.7M   \n",
       "3     4  kyliejenner       female             entertainment    7K    375.9M   \n",
       "4     5  selenagomez       female             entertainment  1.8K    365.3M   \n",
       "\n",
       "  Avg. Likes Eng Rate  \n",
       "0      7.31K     0.1%  \n",
       "1      3.41K     1.4%  \n",
       "2      0.97K     1.7%  \n",
       "3      7.02K     1.7%  \n",
       "4      1.85K     1.1%  "
      ]
     },
     "execution_count": 4,
     "metadata": {},
     "output_type": "execute_result"
    }
   ],
   "source": [
    "df.head()"
   ]
  },
  {
   "cell_type": "markdown",
   "metadata": {},
   "source": [
    "# Checking for the null values"
   ]
  },
  {
   "cell_type": "code",
   "execution_count": 5,
   "metadata": {
    "execution": {
     "iopub.execute_input": "2023-02-28T05:58:10.825474Z",
     "iopub.status.busy": "2023-02-28T05:58:10.82487Z",
     "iopub.status.idle": "2023-02-28T05:58:10.834736Z",
     "shell.execute_reply": "2023-02-28T05:58:10.833541Z",
     "shell.execute_reply.started": "2023-02-28T05:58:10.825439Z"
    }
   },
   "outputs": [
    {
     "data": {
      "text/plain": [
       "rank            0\n",
       "name            0\n",
       "channel_Info    5\n",
       "Category        7\n",
       "Posts           0\n",
       "Followers       0\n",
       "Avg. Likes      0\n",
       "Eng Rate        0\n",
       "dtype: int64"
      ]
     },
     "execution_count": 5,
     "metadata": {},
     "output_type": "execute_result"
    }
   ],
   "source": [
    "df.isnull().sum()"
   ]
  },
  {
   "cell_type": "code",
   "execution_count": 6,
   "metadata": {
    "execution": {
     "iopub.execute_input": "2023-02-28T06:01:02.526591Z",
     "iopub.status.busy": "2023-02-28T06:01:02.525725Z",
     "iopub.status.idle": "2023-02-28T06:01:02.547435Z",
     "shell.execute_reply": "2023-02-28T06:01:02.545991Z",
     "shell.execute_reply.started": "2023-02-28T06:01:02.526546Z"
    }
   },
   "outputs": [
    {
     "name": "stdout",
     "output_type": "stream",
     "text": [
      "<class 'pandas.core.frame.DataFrame'>\n",
      "RangeIndex: 200 entries, 0 to 199\n",
      "Data columns (total 8 columns):\n",
      " #   Column        Non-Null Count  Dtype \n",
      "---  ------        --------------  ----- \n",
      " 0   rank          200 non-null    int64 \n",
      " 1   name          200 non-null    object\n",
      " 2   channel_Info  195 non-null    object\n",
      " 3   Category      193 non-null    object\n",
      " 4   Posts         200 non-null    object\n",
      " 5   Followers     200 non-null    object\n",
      " 6   Avg. Likes    200 non-null    object\n",
      " 7   Eng Rate      200 non-null    object\n",
      "dtypes: int64(1), object(7)\n",
      "memory usage: 12.6+ KB\n"
     ]
    }
   ],
   "source": [
    "df.info()"
   ]
  },
  {
   "cell_type": "markdown",
   "metadata": {},
   "source": [
    "# Null values handling"
   ]
  },
  {
   "cell_type": "code",
   "execution_count": 7,
   "metadata": {
    "execution": {
     "iopub.execute_input": "2023-02-28T06:07:13.457431Z",
     "iopub.status.busy": "2023-02-28T06:07:13.457016Z",
     "iopub.status.idle": "2023-02-28T06:07:13.467307Z",
     "shell.execute_reply": "2023-02-28T06:07:13.465885Z",
     "shell.execute_reply.started": "2023-02-28T06:07:13.457395Z"
    }
   },
   "outputs": [],
   "source": [
    "imputer = SimpleImputer(missing_values = np.nan , strategy = 'most_frequent')\n",
    "imputer.fit(df.iloc[:,2:4].values)\n",
    "df.iloc[:,2:4] = imputer.transform(df.iloc[:,2:4].values)"
   ]
  },
  {
   "cell_type": "code",
   "execution_count": 8,
   "metadata": {
    "execution": {
     "iopub.execute_input": "2023-02-28T06:07:20.07274Z",
     "iopub.status.busy": "2023-02-28T06:07:20.072322Z",
     "iopub.status.idle": "2023-02-28T06:07:20.095552Z",
     "shell.execute_reply": "2023-02-28T06:07:20.094033Z",
     "shell.execute_reply.started": "2023-02-28T06:07:20.072696Z"
    }
   },
   "outputs": [
    {
     "data": {
      "text/html": [
       "<div>\n",
       "<style scoped>\n",
       "    .dataframe tbody tr th:only-of-type {\n",
       "        vertical-align: middle;\n",
       "    }\n",
       "\n",
       "    .dataframe tbody tr th {\n",
       "        vertical-align: top;\n",
       "    }\n",
       "\n",
       "    .dataframe thead th {\n",
       "        text-align: right;\n",
       "    }\n",
       "</style>\n",
       "<table border=\"1\" class=\"dataframe\">\n",
       "  <thead>\n",
       "    <tr style=\"text-align: right;\">\n",
       "      <th></th>\n",
       "      <th>rank</th>\n",
       "      <th>name</th>\n",
       "      <th>channel_Info</th>\n",
       "      <th>Category</th>\n",
       "      <th>Posts</th>\n",
       "      <th>Followers</th>\n",
       "      <th>Avg. Likes</th>\n",
       "      <th>Eng Rate</th>\n",
       "    </tr>\n",
       "  </thead>\n",
       "  <tbody>\n",
       "    <tr>\n",
       "      <th>0</th>\n",
       "      <td>1</td>\n",
       "      <td>instagram</td>\n",
       "      <td>brand</td>\n",
       "      <td>photography</td>\n",
       "      <td>7.3K</td>\n",
       "      <td>580.1M</td>\n",
       "      <td>7.31K</td>\n",
       "      <td>0.1%</td>\n",
       "    </tr>\n",
       "    <tr>\n",
       "      <th>1</th>\n",
       "      <td>2</td>\n",
       "      <td>cristiano</td>\n",
       "      <td>male</td>\n",
       "      <td>Health, Sports &amp; Fitness</td>\n",
       "      <td>3.4K</td>\n",
       "      <td>519.9M</td>\n",
       "      <td>3.41K</td>\n",
       "      <td>1.4%</td>\n",
       "    </tr>\n",
       "    <tr>\n",
       "      <th>2</th>\n",
       "      <td>3</td>\n",
       "      <td>leomessi</td>\n",
       "      <td>male</td>\n",
       "      <td>Health, Sports &amp; Fitness</td>\n",
       "      <td>1K</td>\n",
       "      <td>403.7M</td>\n",
       "      <td>0.97K</td>\n",
       "      <td>1.7%</td>\n",
       "    </tr>\n",
       "    <tr>\n",
       "      <th>3</th>\n",
       "      <td>4</td>\n",
       "      <td>kyliejenner</td>\n",
       "      <td>female</td>\n",
       "      <td>entertainment</td>\n",
       "      <td>7K</td>\n",
       "      <td>375.9M</td>\n",
       "      <td>7.02K</td>\n",
       "      <td>1.7%</td>\n",
       "    </tr>\n",
       "    <tr>\n",
       "      <th>4</th>\n",
       "      <td>5</td>\n",
       "      <td>selenagomez</td>\n",
       "      <td>female</td>\n",
       "      <td>entertainment</td>\n",
       "      <td>1.8K</td>\n",
       "      <td>365.3M</td>\n",
       "      <td>1.85K</td>\n",
       "      <td>1.1%</td>\n",
       "    </tr>\n",
       "    <tr>\n",
       "      <th>...</th>\n",
       "      <td>...</td>\n",
       "      <td>...</td>\n",
       "      <td>...</td>\n",
       "      <td>...</td>\n",
       "      <td>...</td>\n",
       "      <td>...</td>\n",
       "      <td>...</td>\n",
       "      <td>...</td>\n",
       "    </tr>\n",
       "    <tr>\n",
       "      <th>195</th>\n",
       "      <td>196</td>\n",
       "      <td>fcbayern</td>\n",
       "      <td>male</td>\n",
       "      <td>Health, Sports &amp; Fitness</td>\n",
       "      <td>16.8K</td>\n",
       "      <td>35.4M</td>\n",
       "      <td>16.78K</td>\n",
       "      <td>0.6%</td>\n",
       "    </tr>\n",
       "    <tr>\n",
       "      <th>196</th>\n",
       "      <td>197</td>\n",
       "      <td>colesprouse</td>\n",
       "      <td>male</td>\n",
       "      <td>entertainment</td>\n",
       "      <td>1.1K</td>\n",
       "      <td>35.3M</td>\n",
       "      <td>1.14K</td>\n",
       "      <td>3.5%</td>\n",
       "    </tr>\n",
       "    <tr>\n",
       "      <th>197</th>\n",
       "      <td>198</td>\n",
       "      <td>shaymitchell</td>\n",
       "      <td>male</td>\n",
       "      <td>entertainment</td>\n",
       "      <td>6.3K</td>\n",
       "      <td>35.1M</td>\n",
       "      <td>6.31K</td>\n",
       "      <td>1.2%</td>\n",
       "    </tr>\n",
       "    <tr>\n",
       "      <th>198</th>\n",
       "      <td>199</td>\n",
       "      <td>ivetesangalo</td>\n",
       "      <td>female</td>\n",
       "      <td>entertainment</td>\n",
       "      <td>7.8K</td>\n",
       "      <td>35M</td>\n",
       "      <td>7.77K</td>\n",
       "      <td>0.4%</td>\n",
       "    </tr>\n",
       "    <tr>\n",
       "      <th>199</th>\n",
       "      <td>200</td>\n",
       "      <td>paollaoliveirareal</td>\n",
       "      <td>female</td>\n",
       "      <td>entertainment</td>\n",
       "      <td>4.8K</td>\n",
       "      <td>34.9M</td>\n",
       "      <td>4.78K</td>\n",
       "      <td>0.7%</td>\n",
       "    </tr>\n",
       "  </tbody>\n",
       "</table>\n",
       "<p>200 rows × 8 columns</p>\n",
       "</div>"
      ],
      "text/plain": [
       "     rank                name channel_Info                  Category  Posts  \\\n",
       "0       1           instagram        brand               photography   7.3K   \n",
       "1       2           cristiano         male  Health, Sports & Fitness   3.4K   \n",
       "2       3            leomessi         male  Health, Sports & Fitness     1K   \n",
       "3       4         kyliejenner       female             entertainment     7K   \n",
       "4       5         selenagomez       female             entertainment   1.8K   \n",
       "..    ...                 ...          ...                       ...    ...   \n",
       "195   196            fcbayern         male  Health, Sports & Fitness  16.8K   \n",
       "196   197         colesprouse         male             entertainment   1.1K   \n",
       "197   198        shaymitchell         male             entertainment   6.3K   \n",
       "198   199        ivetesangalo       female             entertainment   7.8K   \n",
       "199   200  paollaoliveirareal       female             entertainment   4.8K   \n",
       "\n",
       "    Followers Avg. Likes Eng Rate  \n",
       "0      580.1M      7.31K     0.1%  \n",
       "1      519.9M      3.41K     1.4%  \n",
       "2      403.7M      0.97K     1.7%  \n",
       "3      375.9M      7.02K     1.7%  \n",
       "4      365.3M      1.85K     1.1%  \n",
       "..        ...        ...      ...  \n",
       "195     35.4M     16.78K     0.6%  \n",
       "196     35.3M      1.14K     3.5%  \n",
       "197     35.1M      6.31K     1.2%  \n",
       "198       35M      7.77K     0.4%  \n",
       "199     34.9M      4.78K     0.7%  \n",
       "\n",
       "[200 rows x 8 columns]"
      ]
     },
     "execution_count": 8,
     "metadata": {},
     "output_type": "execute_result"
    }
   ],
   "source": [
    "df"
   ]
  },
  {
   "cell_type": "code",
   "execution_count": 9,
   "metadata": {
    "execution": {
     "iopub.execute_input": "2023-02-28T06:07:45.32397Z",
     "iopub.status.busy": "2023-02-28T06:07:45.323318Z",
     "iopub.status.idle": "2023-02-28T06:07:45.333798Z",
     "shell.execute_reply": "2023-02-28T06:07:45.332635Z",
     "shell.execute_reply.started": "2023-02-28T06:07:45.323932Z"
    }
   },
   "outputs": [
    {
     "data": {
      "text/plain": [
       "rank            0\n",
       "name            0\n",
       "channel_Info    0\n",
       "Category        0\n",
       "Posts           0\n",
       "Followers       0\n",
       "Avg. Likes      0\n",
       "Eng Rate        0\n",
       "dtype: int64"
      ]
     },
     "execution_count": 9,
     "metadata": {},
     "output_type": "execute_result"
    }
   ],
   "source": [
    "df.isnull().sum()"
   ]
  },
  {
   "cell_type": "markdown",
   "metadata": {},
   "source": [
    "*The dataset has no null values now*"
   ]
  },
  {
   "cell_type": "code",
   "execution_count": 10,
   "metadata": {
    "execution": {
     "iopub.execute_input": "2023-02-28T06:09:35.613811Z",
     "iopub.status.busy": "2023-02-28T06:09:35.613342Z",
     "iopub.status.idle": "2023-02-28T06:09:35.624877Z",
     "shell.execute_reply": "2023-02-28T06:09:35.623657Z",
     "shell.execute_reply.started": "2023-02-28T06:09:35.613774Z"
    }
   },
   "outputs": [
    {
     "data": {
      "text/plain": [
       "count        200\n",
       "unique       198\n",
       "top       natgeo\n",
       "freq           2\n",
       "Name: name, dtype: object"
      ]
     },
     "execution_count": 10,
     "metadata": {},
     "output_type": "execute_result"
    }
   ],
   "source": [
    "df['name'].describe()"
   ]
  },
  {
   "cell_type": "code",
   "execution_count": 11,
   "metadata": {
    "execution": {
     "iopub.execute_input": "2023-02-28T06:10:17.514182Z",
     "iopub.status.busy": "2023-02-28T06:10:17.513754Z",
     "iopub.status.idle": "2023-02-28T06:10:17.525013Z",
     "shell.execute_reply": "2023-02-28T06:10:17.523643Z",
     "shell.execute_reply.started": "2023-02-28T06:10:17.514143Z"
    }
   },
   "outputs": [
    {
     "data": {
      "text/plain": [
       "count               200\n",
       "unique               11\n",
       "top       entertainment\n",
       "freq                136\n",
       "Name: Category, dtype: object"
      ]
     },
     "execution_count": 11,
     "metadata": {},
     "output_type": "execute_result"
    }
   ],
   "source": [
    "df['Category'].describe()"
   ]
  },
  {
   "cell_type": "markdown",
   "metadata": {},
   "source": [
    "# Analyzing the category entertainment "
   ]
  },
  {
   "cell_type": "code",
   "execution_count": 12,
   "metadata": {
    "execution": {
     "iopub.execute_input": "2023-02-28T06:11:54.207767Z",
     "iopub.status.busy": "2023-02-28T06:11:54.207342Z",
     "iopub.status.idle": "2023-02-28T06:11:54.213752Z",
     "shell.execute_reply": "2023-02-28T06:11:54.212416Z",
     "shell.execute_reply.started": "2023-02-28T06:11:54.207714Z"
    }
   },
   "outputs": [],
   "source": [
    "df_pr = df[df['Category'] == 'entertainment']"
   ]
  },
  {
   "cell_type": "code",
   "execution_count": 13,
   "metadata": {
    "execution": {
     "iopub.execute_input": "2023-02-28T06:11:59.621775Z",
     "iopub.status.busy": "2023-02-28T06:11:59.621358Z",
     "iopub.status.idle": "2023-02-28T06:11:59.640435Z",
     "shell.execute_reply": "2023-02-28T06:11:59.639211Z",
     "shell.execute_reply.started": "2023-02-28T06:11:59.621741Z"
    }
   },
   "outputs": [
    {
     "data": {
      "text/html": [
       "<div>\n",
       "<style scoped>\n",
       "    .dataframe tbody tr th:only-of-type {\n",
       "        vertical-align: middle;\n",
       "    }\n",
       "\n",
       "    .dataframe tbody tr th {\n",
       "        vertical-align: top;\n",
       "    }\n",
       "\n",
       "    .dataframe thead th {\n",
       "        text-align: right;\n",
       "    }\n",
       "</style>\n",
       "<table border=\"1\" class=\"dataframe\">\n",
       "  <thead>\n",
       "    <tr style=\"text-align: right;\">\n",
       "      <th></th>\n",
       "      <th>rank</th>\n",
       "      <th>name</th>\n",
       "      <th>channel_Info</th>\n",
       "      <th>Category</th>\n",
       "      <th>Posts</th>\n",
       "      <th>Followers</th>\n",
       "      <th>Avg. Likes</th>\n",
       "      <th>Eng Rate</th>\n",
       "    </tr>\n",
       "  </thead>\n",
       "  <tbody>\n",
       "    <tr>\n",
       "      <th>3</th>\n",
       "      <td>4</td>\n",
       "      <td>kyliejenner</td>\n",
       "      <td>female</td>\n",
       "      <td>entertainment</td>\n",
       "      <td>7K</td>\n",
       "      <td>375.9M</td>\n",
       "      <td>7.02K</td>\n",
       "      <td>1.7%</td>\n",
       "    </tr>\n",
       "    <tr>\n",
       "      <th>4</th>\n",
       "      <td>5</td>\n",
       "      <td>selenagomez</td>\n",
       "      <td>female</td>\n",
       "      <td>entertainment</td>\n",
       "      <td>1.8K</td>\n",
       "      <td>365.3M</td>\n",
       "      <td>1.85K</td>\n",
       "      <td>1.1%</td>\n",
       "    </tr>\n",
       "    <tr>\n",
       "      <th>5</th>\n",
       "      <td>6</td>\n",
       "      <td>therock</td>\n",
       "      <td>male</td>\n",
       "      <td>entertainment</td>\n",
       "      <td>7K</td>\n",
       "      <td>354.3M</td>\n",
       "      <td>7.03K</td>\n",
       "      <td>0.3%</td>\n",
       "    </tr>\n",
       "    <tr>\n",
       "      <th>6</th>\n",
       "      <td>7</td>\n",
       "      <td>arianagrande</td>\n",
       "      <td>female</td>\n",
       "      <td>entertainment</td>\n",
       "      <td>5K</td>\n",
       "      <td>345.6M</td>\n",
       "      <td>4.98K</td>\n",
       "      <td>1.4%</td>\n",
       "    </tr>\n",
       "    <tr>\n",
       "      <th>7</th>\n",
       "      <td>8</td>\n",
       "      <td>kimkardashian</td>\n",
       "      <td>female</td>\n",
       "      <td>entertainment</td>\n",
       "      <td>5.7K</td>\n",
       "      <td>336.3M</td>\n",
       "      <td>5.73K</td>\n",
       "      <td>0.9%</td>\n",
       "    </tr>\n",
       "    <tr>\n",
       "      <th>...</th>\n",
       "      <td>...</td>\n",
       "      <td>...</td>\n",
       "      <td>...</td>\n",
       "      <td>...</td>\n",
       "      <td>...</td>\n",
       "      <td>...</td>\n",
       "      <td>...</td>\n",
       "      <td>...</td>\n",
       "    </tr>\n",
       "    <tr>\n",
       "      <th>193</th>\n",
       "      <td>194</td>\n",
       "      <td>disney</td>\n",
       "      <td>brand</td>\n",
       "      <td>entertainment</td>\n",
       "      <td>7.7K</td>\n",
       "      <td>35.8M</td>\n",
       "      <td>7.70K</td>\n",
       "      <td>0.3%</td>\n",
       "    </tr>\n",
       "    <tr>\n",
       "      <th>196</th>\n",
       "      <td>197</td>\n",
       "      <td>colesprouse</td>\n",
       "      <td>male</td>\n",
       "      <td>entertainment</td>\n",
       "      <td>1.1K</td>\n",
       "      <td>35.3M</td>\n",
       "      <td>1.14K</td>\n",
       "      <td>3.5%</td>\n",
       "    </tr>\n",
       "    <tr>\n",
       "      <th>197</th>\n",
       "      <td>198</td>\n",
       "      <td>shaymitchell</td>\n",
       "      <td>male</td>\n",
       "      <td>entertainment</td>\n",
       "      <td>6.3K</td>\n",
       "      <td>35.1M</td>\n",
       "      <td>6.31K</td>\n",
       "      <td>1.2%</td>\n",
       "    </tr>\n",
       "    <tr>\n",
       "      <th>198</th>\n",
       "      <td>199</td>\n",
       "      <td>ivetesangalo</td>\n",
       "      <td>female</td>\n",
       "      <td>entertainment</td>\n",
       "      <td>7.8K</td>\n",
       "      <td>35M</td>\n",
       "      <td>7.77K</td>\n",
       "      <td>0.4%</td>\n",
       "    </tr>\n",
       "    <tr>\n",
       "      <th>199</th>\n",
       "      <td>200</td>\n",
       "      <td>paollaoliveirareal</td>\n",
       "      <td>female</td>\n",
       "      <td>entertainment</td>\n",
       "      <td>4.8K</td>\n",
       "      <td>34.9M</td>\n",
       "      <td>4.78K</td>\n",
       "      <td>0.7%</td>\n",
       "    </tr>\n",
       "  </tbody>\n",
       "</table>\n",
       "<p>136 rows × 8 columns</p>\n",
       "</div>"
      ],
      "text/plain": [
       "     rank                name channel_Info       Category Posts Followers  \\\n",
       "3       4         kyliejenner       female  entertainment    7K    375.9M   \n",
       "4       5         selenagomez       female  entertainment  1.8K    365.3M   \n",
       "5       6             therock         male  entertainment    7K    354.3M   \n",
       "6       7        arianagrande       female  entertainment    5K    345.6M   \n",
       "7       8       kimkardashian       female  entertainment  5.7K    336.3M   \n",
       "..    ...                 ...          ...            ...   ...       ...   \n",
       "193   194              disney        brand  entertainment  7.7K     35.8M   \n",
       "196   197         colesprouse         male  entertainment  1.1K     35.3M   \n",
       "197   198        shaymitchell         male  entertainment  6.3K     35.1M   \n",
       "198   199        ivetesangalo       female  entertainment  7.8K       35M   \n",
       "199   200  paollaoliveirareal       female  entertainment  4.8K     34.9M   \n",
       "\n",
       "    Avg. Likes Eng Rate  \n",
       "3        7.02K     1.7%  \n",
       "4        1.85K     1.1%  \n",
       "5        7.03K     0.3%  \n",
       "6        4.98K     1.4%  \n",
       "7        5.73K     0.9%  \n",
       "..         ...      ...  \n",
       "193      7.70K     0.3%  \n",
       "196      1.14K     3.5%  \n",
       "197      6.31K     1.2%  \n",
       "198      7.77K     0.4%  \n",
       "199      4.78K     0.7%  \n",
       "\n",
       "[136 rows x 8 columns]"
      ]
     },
     "execution_count": 13,
     "metadata": {},
     "output_type": "execute_result"
    }
   ],
   "source": [
    "df_pr"
   ]
  },
  {
   "cell_type": "code",
   "execution_count": 14,
   "metadata": {
    "execution": {
     "iopub.execute_input": "2023-02-28T06:18:15.113175Z",
     "iopub.status.busy": "2023-02-28T06:18:15.112797Z",
     "iopub.status.idle": "2023-02-28T06:18:15.39092Z",
     "shell.execute_reply": "2023-02-28T06:18:15.389846Z",
     "shell.execute_reply.started": "2023-02-28T06:18:15.113144Z"
    }
   },
   "outputs": [
    {
     "data": {
      "text/plain": [
       "<Axes: xlabel='POSTS', ylabel='RANK'>"
      ]
     },
     "execution_count": 14,
     "metadata": {},
     "output_type": "execute_result"
    },
    {
     "data": {
      "image/png": "[encoded data removed]",
      "text/plain": [
       "<Figure size 1000x1000 with 1 Axes>"
      ]
     },
     "metadata": {},
     "output_type": "display_data"
    }
   ],
   "source": [
    "df_pr.plot(kind = 'line', x ='Posts', y ='rank',grid = True , xlabel = 'POSTS',ylabel = 'RANK',figsize = (10,10))"
   ]
  },
  {
   "cell_type": "code",
   "execution_count": 15,
   "metadata": {
    "execution": {
     "iopub.execute_input": "2023-02-28T06:21:27.120608Z",
     "iopub.status.busy": "2023-02-28T06:21:27.119335Z",
     "iopub.status.idle": "2023-02-28T06:21:27.34585Z",
     "shell.execute_reply": "2023-02-28T06:21:27.344451Z",
     "shell.execute_reply.started": "2023-02-28T06:21:27.12055Z"
    }
   },
   "outputs": [
    {
     "data": {
      "text/plain": [
       "<Axes: >"
      ]
     },
     "execution_count": 15,
     "metadata": {},
     "output_type": "execute_result"
    },
    {
     "data": {
      "image/png": "[encoded data removed]",
      "text/plain": [
       "<Figure size 1000x1000 with 1 Axes>"
      ]
     },
     "metadata": {},
     "output_type": "display_data"
    }
   ],
   "source": [
    "df.groupby('channel_Info').size().plot(kind = 'pie' , autopct = '%.1f',figsize = (10,10))"
   ]
  },
  {
   "cell_type": "code",
   "execution_count": 16,
   "metadata": {
    "execution": {
     "iopub.execute_input": "2023-02-28T06:25:42.300584Z",
     "iopub.status.busy": "2023-02-28T06:25:42.300164Z",
     "iopub.status.idle": "2023-02-28T06:25:42.709577Z",
     "shell.execute_reply": "2023-02-28T06:25:42.70851Z",
     "shell.execute_reply.started": "2023-02-28T06:25:42.300539Z"
    }
   },
   "outputs": [
    {
     "data": {
      "text/plain": [
       "<Axes: xlabel='rank', ylabel='Category'>"
      ]
     },
     "execution_count": 16,
     "metadata": {},
     "output_type": "execute_result"
    },
    {
     "data": {
      "image/png": "[encoded data removed]",
      "text/plain": [
       "<Figure size 640x480 with 1 Axes>"
      ]
     },
     "metadata": {},
     "output_type": "display_data"
    }
   ],
   "source": [
    "sns.violinplot( x = df['rank'] , y = df['Category'])"
   ]
  },
  {
   "cell_type": "code",
   "execution_count": 17,
   "metadata": {
    "execution": {
     "iopub.execute_input": "2023-02-28T06:32:58.437024Z",
     "iopub.status.busy": "2023-02-28T06:32:58.436551Z",
     "iopub.status.idle": "2023-02-28T06:32:58.449334Z",
     "shell.execute_reply": "2023-02-28T06:32:58.448223Z",
     "shell.execute_reply.started": "2023-02-28T06:32:58.436973Z"
    }
   },
   "outputs": [
    {
     "name": "stderr",
     "output_type": "stream",
     "text": [
      "C:\\Users\\pc\\AppData\\Local\\Temp\\ipykernel_11220\\1134722465.py:1: FutureWarning: The default value of numeric_only in DataFrame.corr is deprecated. In a future version, it will default to False. Select only valid columns or specify the value of numeric_only to silence this warning.\n",
      "  df.corr()\n"
     ]
    },
    {
     "data": {
      "text/html": [
       "<div>\n",
       "<style scoped>\n",
       "    .dataframe tbody tr th:only-of-type {\n",
       "        vertical-align: middle;\n",
       "    }\n",
       "\n",
       "    .dataframe tbody tr th {\n",
       "        vertical-align: top;\n",
       "    }\n",
       "\n",
       "    .dataframe thead th {\n",
       "        text-align: right;\n",
       "    }\n",
       "</style>\n",
       "<table border=\"1\" class=\"dataframe\">\n",
       "  <thead>\n",
       "    <tr style=\"text-align: right;\">\n",
       "      <th></th>\n",
       "      <th>rank</th>\n",
       "    </tr>\n",
       "  </thead>\n",
       "  <tbody>\n",
       "    <tr>\n",
       "      <th>rank</th>\n",
       "      <td>1.0</td>\n",
       "    </tr>\n",
       "  </tbody>\n",
       "</table>\n",
       "</div>"
      ],
      "text/plain": [
       "      rank\n",
       "rank   1.0"
      ]
     },
     "execution_count": 17,
     "metadata": {},
     "output_type": "execute_result"
    }
   ],
   "source": [
    "df.corr()"
   ]
  },
  {
   "cell_type": "markdown",
   "metadata": {},
   "source": [
    "# No. of unique data in each column"
   ]
  },
  {
   "cell_type": "code",
   "execution_count": 18,
   "metadata": {
    "execution": {
     "iopub.execute_input": "2023-02-28T06:35:54.512804Z",
     "iopub.status.busy": "2023-02-28T06:35:54.511999Z",
     "iopub.status.idle": "2023-02-28T06:35:54.521897Z",
     "shell.execute_reply": "2023-02-28T06:35:54.520728Z",
     "shell.execute_reply.started": "2023-02-28T06:35:54.512759Z"
    }
   },
   "outputs": [
    {
     "name": "stdout",
     "output_type": "stream",
     "text": [
      "rank 200\n",
      "name 198\n",
      "channel_Info 4\n",
      "Category 11\n",
      "Posts 132\n",
      "Followers 172\n",
      "Avg. Likes 186\n",
      "Eng Rate 60\n"
     ]
    }
   ],
   "source": [
    "for i in df.columns:\n",
    "    print(i,df[i].nunique())"
   ]
  },
  {
   "cell_type": "code",
   "execution_count": null,
   "metadata": {},
   "outputs": [],
   "source": []
  },
  {
   "cell_type": "code",
   "execution_count": null,
   "metadata": {},
   "outputs": [],
   "source": []
  }
 ],
 "metadata": {
  "kernelspec": {
   "display_name": "Python 3 (ipykernel)",
   "language": "python",
   "name": "python3"
  },
  "language_info": {
   "codemirror_mode": {
    "name": "ipython",
    "version": 3
   },
   "file_extension": ".py",
   "mimetype": "text/x-python",
   "name": "python",
   "nbconvert_exporter": "python",
   "pygments_lexer": "ipython3",
   "version": "3.10.9"
  }
 },
 "nbformat": 4,
 "nbformat_minor": 4
}
